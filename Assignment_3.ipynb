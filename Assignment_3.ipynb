{
 "cells": [
  {
   "cell_type": "markdown",
   "id": "716ce021-df08-4fb0-8bdb-6fa4406671ca",
   "metadata": {},
   "source": [
    "Name : Abhijeet Jadhav "
   ]
  },
  {
   "cell_type": "markdown",
   "id": "8ffe44ec-e5e7-477d-b63d-760925d0e13b",
   "metadata": {},
   "source": [
    "Branch : CO"
   ]
  },
  {
   "cell_type": "markdown",
   "id": "69d2b9e2-3f7e-4b72-9bc8-2305c26e9e45",
   "metadata": {},
   "source": [
    "# numpy Function"
   ]
  },
  {
   "cell_type": "code",
   "execution_count": 6,
   "id": "302d8ffe-d7e4-48a3-9585-85a5a8a6941b",
   "metadata": {},
   "outputs": [],
   "source": [
    "import numpy as abhi\n",
    "arr=abhi.array([1,2,3,4,5])"
   ]
  },
  {
   "cell_type": "code",
   "execution_count": 5,
   "id": "7b69677f-75c0-4100-b1db-f48cd564069e",
   "metadata": {},
   "outputs": [
    {
     "data": {
      "text/plain": [
       "array([1, 2, 3, 4, 5])"
      ]
     },
     "execution_count": 5,
     "metadata": {},
     "output_type": "execute_result"
    }
   ],
   "source": [
    "arr"
   ]
  },
  {
   "cell_type": "markdown",
   "id": "0a42b427-89cf-4305-af4f-9d9893a1828f",
   "metadata": {},
   "source": [
    "# 1. Sort "
   ]
  },
  {
   "cell_type": "code",
   "execution_count": 7,
   "id": "a6f03cd7-e505-4eee-9efa-bb853a55890a",
   "metadata": {},
   "outputs": [],
   "source": [
    "new_arr= abhi.array([12,3,1,4,5,6])"
   ]
  },
  {
   "cell_type": "code",
   "execution_count": 9,
   "id": "56ffed86-290c-4699-bd97-b4f09e66a7e9",
   "metadata": {},
   "outputs": [
    {
     "data": {
      "text/plain": [
       "array([ 1,  3,  4,  5,  6, 12])"
      ]
     },
     "execution_count": 9,
     "metadata": {},
     "output_type": "execute_result"
    }
   ],
   "source": [
    "abhi.sort(new_arr)"
   ]
  },
  {
   "cell_type": "markdown",
   "id": "e1ebd912-0dfc-4363-80d6-a843cff97e3d",
   "metadata": {},
   "source": [
    "# 2. Clip"
   ]
  },
  {
   "cell_type": "code",
   "execution_count": 11,
   "id": "b0bbfce6-2038-4d86-bd66-2cc4830f1ae0",
   "metadata": {},
   "outputs": [
    {
     "data": {
      "text/plain": [
       "array([2, 2, 3, 4, 4])"
      ]
     },
     "execution_count": 11,
     "metadata": {},
     "output_type": "execute_result"
    }
   ],
   "source": [
    "abhi.clip(arr, 2, 4)"
   ]
  },
  {
   "cell_type": "markdown",
   "id": "d9bb1013-69ec-4cba-abbe-2c65f8706eac",
   "metadata": {},
   "source": [
    "# 3. Round "
   ]
  },
  {
   "cell_type": "code",
   "execution_count": 12,
   "id": "a268daa8-c271-4953-8264-b916aaa3f572",
   "metadata": {},
   "outputs": [],
   "source": [
    "arr1=abhi.array([1.223,2.367])"
   ]
  },
  {
   "cell_type": "code",
   "execution_count": 14,
   "id": "85d78101-a4b8-4f2d-b7a9-3a8aeddfed7f",
   "metadata": {},
   "outputs": [
    {
     "data": {
      "text/plain": [
       "array([1.2, 2.4])"
      ]
     },
     "execution_count": 14,
     "metadata": {},
     "output_type": "execute_result"
    }
   ],
   "source": [
    "abhi.round(arr1,1)"
   ]
  },
  {
   "cell_type": "markdown",
   "id": "0a390dca-da40-4612-a474-6e21d28e33e7",
   "metadata": {},
   "source": [
    "# 4.Floor "
   ]
  },
  {
   "cell_type": "code",
   "execution_count": 16,
   "id": "19b1171c-46a3-43c8-998f-a37194ef442d",
   "metadata": {},
   "outputs": [],
   "source": [
    "arr2=abhi.array([1.2, 2.8, 4.5, 3.1, 67.9, 89.3, 10.7])"
   ]
  },
  {
   "cell_type": "code",
   "execution_count": 18,
   "id": "25d3ee6b-1313-402f-bd81-54ab308440ca",
   "metadata": {},
   "outputs": [
    {
     "data": {
      "text/plain": [
       "array([ 1.,  2.,  4.,  3., 67., 89., 10.])"
      ]
     },
     "execution_count": 18,
     "metadata": {},
     "output_type": "execute_result"
    }
   ],
   "source": [
    "abhi.floor(arr2)"
   ]
  },
  {
   "cell_type": "markdown",
   "id": "37182378-9e3e-4f96-9040-38b2739dc02a",
   "metadata": {},
   "source": [
    "# 5. Ceil "
   ]
  },
  {
   "cell_type": "code",
   "execution_count": 20,
   "id": "6b0c6cf8-9111-4aac-b063-a1bfbed7cb37",
   "metadata": {},
   "outputs": [
    {
     "data": {
      "text/plain": [
       "array([ 1.2,  2.8,  4.5,  3.1, 67.9, 89.3, 10.7])"
      ]
     },
     "execution_count": 20,
     "metadata": {},
     "output_type": "execute_result"
    }
   ],
   "source": [
    "arr2"
   ]
  },
  {
   "cell_type": "code",
   "execution_count": 22,
   "id": "b86cce6c-3b5a-4bc5-a078-bcc915504e45",
   "metadata": {},
   "outputs": [
    {
     "data": {
      "text/plain": [
       "array([ 2.,  3.,  5.,  4., 68., 90., 11.])"
      ]
     },
     "execution_count": 22,
     "metadata": {},
     "output_type": "execute_result"
    }
   ],
   "source": [
    "abhi.ceil(arr2)"
   ]
  },
  {
   "cell_type": "markdown",
   "id": "91c76b89-22ee-4ec7-b5bc-3a4309c0a719",
   "metadata": {},
   "source": [
    "# 6. Intersect"
   ]
  },
  {
   "cell_type": "code",
   "execution_count": 24,
   "id": "aeef3faf-cf07-41f8-a987-29bbe322124f",
   "metadata": {},
   "outputs": [
    {
     "data": {
      "text/plain": [
       "array([3])"
      ]
     },
     "execution_count": 24,
     "metadata": {},
     "output_type": "execute_result"
    }
   ],
   "source": [
    "a = abhi.array([1, 2, 3])\n",
    "b = abhi.array([3, 4, 5])\n",
    "\n",
    "abhi.intersect1d(a, b)    # [3]"
   ]
  },
  {
   "cell_type": "markdown",
   "id": "0db735f2-d626-4aad-abef-2bfa44c48ac0",
   "metadata": {},
   "source": [
    "# 7. union"
   ]
  },
  {
   "cell_type": "code",
   "execution_count": 26,
   "id": "5e32a327-94b9-4898-9b1d-5bde13b47cf9",
   "metadata": {},
   "outputs": [
    {
     "data": {
      "text/plain": [
       "array([1, 2, 3, 4, 5])"
      ]
     },
     "execution_count": 26,
     "metadata": {},
     "output_type": "execute_result"
    }
   ],
   "source": [
    "abhi.union1d(a, b)  "
   ]
  },
  {
   "cell_type": "markdown",
   "id": "ae5132eb-7bd6-45ad-bed3-49cd68eb9d9f",
   "metadata": {},
   "source": [
    "# 8. Set difference"
   ]
  },
  {
   "cell_type": "code",
   "execution_count": 28,
   "id": "32e2aae2-3113-4c95-aab5-f61716ed28c0",
   "metadata": {},
   "outputs": [
    {
     "data": {
      "text/plain": [
       "array([1, 2])"
      ]
     },
     "execution_count": 28,
     "metadata": {},
     "output_type": "execute_result"
    }
   ],
   "source": [
    "abhi.setdiff1d(a, b)"
   ]
  },
  {
   "cell_type": "markdown",
   "id": "994341d6-9e24-4301-bf21-0c05c324c0b5",
   "metadata": {},
   "source": [
    "# 9. Sum"
   ]
  },
  {
   "cell_type": "code",
   "execution_count": 30,
   "id": "151587f2-4670-4884-b39f-b55c4fd56146",
   "metadata": {},
   "outputs": [],
   "source": [
    "arr3=abhi.array([10,20,30,40,50])"
   ]
  },
  {
   "cell_type": "code",
   "execution_count": 34,
   "id": "62d16a1c-862e-44f9-9d2b-6b075696b31c",
   "metadata": {},
   "outputs": [
    {
     "data": {
      "text/plain": [
       "np.int64(150)"
      ]
     },
     "execution_count": 34,
     "metadata": {},
     "output_type": "execute_result"
    }
   ],
   "source": [
    "abhi.sum(arr3)"
   ]
  },
  {
   "cell_type": "markdown",
   "id": "089a6d1c-1134-478b-8f16-f0e9d8be9c45",
   "metadata": {},
   "source": [
    "# 10. Product"
   ]
  },
  {
   "cell_type": "code",
   "execution_count": 36,
   "id": "e1072e5f-6ff7-473f-b964-cce2998dc306",
   "metadata": {},
   "outputs": [],
   "source": [
    "arr4= abhi.array([5,4,3,2,1])"
   ]
  },
  {
   "cell_type": "code",
   "execution_count": 37,
   "id": "0e752883-dfbc-482d-b797-e8f993983191",
   "metadata": {},
   "outputs": [
    {
     "data": {
      "text/plain": [
       "np.int64(120)"
      ]
     },
     "execution_count": 37,
     "metadata": {},
     "output_type": "execute_result"
    }
   ],
   "source": [
    "abhi.prod(arr4)"
   ]
  }
 ],
 "metadata": {
  "kernelspec": {
   "display_name": "Python [conda env:base] *",
   "language": "python",
   "name": "conda-base-py"
  },
  "language_info": {
   "codemirror_mode": {
    "name": "ipython",
    "version": 3
   },
   "file_extension": ".py",
   "mimetype": "text/x-python",
   "name": "python",
   "nbconvert_exporter": "python",
   "pygments_lexer": "ipython3",
   "version": "3.13.5"
  }
 },
 "nbformat": 4,
 "nbformat_minor": 5
}
