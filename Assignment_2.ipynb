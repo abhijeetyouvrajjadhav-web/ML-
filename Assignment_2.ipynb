{
 "cells": [
  {
   "cell_type": "markdown",
   "id": "e35e6a50-2e23-43ce-8eb9-d60eb537b5e4",
   "metadata": {},
   "source": [
    "Name : Abhijeet jadhav "
   ]
  },
  {
   "cell_type": "markdown",
   "id": "20ae8dac-8a16-4a11-9397-ea7c06b8f328",
   "metadata": {},
   "source": [
    "Branch : CO"
   ]
  },
  {
   "cell_type": "markdown",
   "id": "eb67d8d3-69d7-4c58-94fb-ef358cc5463f",
   "metadata": {},
   "source": [
    "# List "
   ]
  },
  {
   "cell_type": "code",
   "execution_count": 8,
   "id": "a9e5df32-14a1-4f87-b173-d87611937bf4",
   "metadata": {},
   "outputs": [],
   "source": [
    "l=[ 1,2,3,4,5,6,7]"
   ]
  },
  {
   "cell_type": "code",
   "execution_count": 10,
   "id": "7ddf4ce7-3c8e-4730-a19f-6e8af80ab249",
   "metadata": {},
   "outputs": [
    {
     "data": {
      "text/plain": [
       "[1, 2, 3, 4, 5, 6, 7]"
      ]
     },
     "execution_count": 10,
     "metadata": {},
     "output_type": "execute_result"
    }
   ],
   "source": [
    "l "
   ]
  },
  {
   "cell_type": "code",
   "execution_count": 12,
   "id": "074f730a-a18b-446d-a259-a33b979c5358",
   "metadata": {},
   "outputs": [],
   "source": [
    "l[6]=0"
   ]
  },
  {
   "cell_type": "code",
   "execution_count": 14,
   "id": "8cf1724a-a931-4aa7-8047-ad2abe5c8256",
   "metadata": {},
   "outputs": [
    {
     "data": {
      "text/plain": [
       "[1, 2, 3, 4, 5, 6, 0]"
      ]
     },
     "execution_count": 14,
     "metadata": {},
     "output_type": "execute_result"
    }
   ],
   "source": [
    "l"
   ]
  },
  {
   "cell_type": "markdown",
   "id": "1b2d9c56-143f-4704-b50e-3fdeb2579677",
   "metadata": {},
   "source": [
    "# Tuple"
   ]
  },
  {
   "cell_type": "code",
   "execution_count": 16,
   "id": "f3336baa-102c-48c2-8494-2f41f179540e",
   "metadata": {},
   "outputs": [],
   "source": [
    "empty_tuple=()"
   ]
  },
  {
   "cell_type": "code",
   "execution_count": 18,
   "id": "26417109-5677-49a5-beda-9bd2262c37a2",
   "metadata": {},
   "outputs": [],
   "source": [
    "number= (11,12,13,14,15,16,17)"
   ]
  },
  {
   "cell_type": "code",
   "execution_count": 20,
   "id": "f49f94d9-8f19-4fde-8f44-ff4e9174de9f",
   "metadata": {},
   "outputs": [
    {
     "data": {
      "text/plain": [
       "(11, 12, 13, 14, 15, 16, 17)"
      ]
     },
     "execution_count": 20,
     "metadata": {},
     "output_type": "execute_result"
    }
   ],
   "source": [
    "number"
   ]
  },
  {
   "cell_type": "code",
   "execution_count": 22,
   "id": "827598a1-0b3b-4dd7-8a80-f41a428daf2c",
   "metadata": {},
   "outputs": [],
   "source": [
    "my_tuple= (1061,1062,1072,1100)"
   ]
  },
  {
   "cell_type": "code",
   "execution_count": 24,
   "id": "4faf1cef-5a63-40c9-a021-13460b4010ae",
   "metadata": {},
   "outputs": [
    {
     "data": {
      "text/plain": [
       "(1061, 1062, 1072, 1100)"
      ]
     },
     "execution_count": 24,
     "metadata": {},
     "output_type": "execute_result"
    }
   ],
   "source": [
    "my_tuple"
   ]
  },
  {
   "cell_type": "code",
   "execution_count": 28,
   "id": "30f25f9d-6b50-4526-8bb9-86cf58a30742",
   "metadata": {},
   "outputs": [
    {
     "name": "stdout",
     "output_type": "stream",
     "text": [
      "Abhi\n",
      "21\n",
      "data\n"
     ]
    }
   ],
   "source": [
    "p=(\"Abhi\",21,\"data\")#packing\n",
    "name,age,sub=p #unpacking\n",
    "print(name)\n",
    "print(age)\n",
    "print(sub)"
   ]
  },
  {
   "cell_type": "markdown",
   "id": "364e3006-54ad-4cec-9f31-adf44b59e7d1",
   "metadata": {},
   "source": [
    "# Set"
   ]
  },
  {
   "cell_type": "code",
   "execution_count": 29,
   "id": "a946f2f6-12b8-4eeb-8290-b31845b27ac2",
   "metadata": {},
   "outputs": [],
   "source": [
    "s={}"
   ]
  },
  {
   "cell_type": "code",
   "execution_count": 31,
   "id": "dd1b0503-8136-4fa2-830d-c2404f832edf",
   "metadata": {},
   "outputs": [],
   "source": [
    "empty_set=set()"
   ]
  },
  {
   "cell_type": "code",
   "execution_count": 33,
   "id": "2c2786d4-0541-47fe-9e3e-b54287e51167",
   "metadata": {},
   "outputs": [],
   "source": [
    "mixed_set={4,\"Abhi\",5,12,True}"
   ]
  },
  {
   "cell_type": "code",
   "execution_count": 35,
   "id": "c9e42459-acf5-4c57-a634-dc969e79994d",
   "metadata": {},
   "outputs": [
    {
     "data": {
      "text/plain": [
       "{12, 4, 5, 'Abhi', True}"
      ]
     },
     "execution_count": 35,
     "metadata": {},
     "output_type": "execute_result"
    }
   ],
   "source": [
    "mixed_set"
   ]
  },
  {
   "cell_type": "code",
   "execution_count": 36,
   "id": "69919e98-178a-4e6e-b861-9ed2278a90e0",
   "metadata": {},
   "outputs": [
    {
     "name": "stdout",
     "output_type": "stream",
     "text": [
      "<class 'set'>\n"
     ]
    }
   ],
   "source": [
    "print(type(mixed_set))"
   ]
  }
 ],
 "metadata": {
  "kernelspec": {
   "display_name": "Python [conda env:base] *",
   "language": "python",
   "name": "conda-base-py"
  },
  "language_info": {
   "codemirror_mode": {
    "name": "ipython",
    "version": 3
   },
   "file_extension": ".py",
   "mimetype": "text/x-python",
   "name": "python",
   "nbconvert_exporter": "python",
   "pygments_lexer": "ipython3",
   "version": "3.13.5"
  }
 },
 "nbformat": 4,
 "nbformat_minor": 5
}
