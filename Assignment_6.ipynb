{
 "cells": [
  {
   "cell_type": "markdown",
   "id": "b0fab13f-4e12-48bb-9528-601bf6b89128",
   "metadata": {},
   "source": [
    "Name : Abhijeet jadhav "
   ]
  },
  {
   "cell_type": "markdown",
   "id": "382818fe-467c-431a-883b-60ad7e907f75",
   "metadata": {},
   "source": [
    "Branch :- CO"
   ]
  },
  {
   "cell_type": "markdown",
   "id": "a92663cd-1b5d-4222-88c6-738962c12f8d",
   "metadata": {},
   "source": [
    "Assignment 6"
   ]
  },
  {
   "cell_type": "markdown",
   "id": "f49ea07d-e409-4ab9-a4b5-5fa13a32cb56",
   "metadata": {},
   "source": [
    "## Q.no.1"
   ]
  },
  {
   "cell_type": "markdown",
   "id": "9808851a-37a7-4ae9-8e2b-cab89d23cd56",
   "metadata": {},
   "source": [
    "Scrape all product names and prices from the first two pages of \"Books to Scrape\" (http://books.toscrape.com/). Handle simple pagination and structure the output as a list of dictionaries with 'title' and 'price'."
   ]
  },
  {
   "cell_type": "code",
   "execution_count": 2,
   "id": "fd552583-7bcf-4539-9073-96284d3674da",
   "metadata": {},
   "outputs": [
    {
     "name": "stdout",
     "output_type": "stream",
     "text": [
      "\n",
      "Books to scrape (first 3 pages):\n",
      "{'title': 'The Nameless City (The Nameless City #1)', 'price': 'Â£38.16'}\n",
      "{'title': 'The Murder That Never Was (Forensic Instincts #5)', 'price': 'Â£54.11'}\n",
      "{'title': \"The Most Perfect Thing: Inside (and Outside) a Bird's Egg\", 'price': 'Â£42.96'}\n",
      "{'title': 'The Mindfulness and Acceptance Workbook for Anxiety: A Guide to Breaking Free from Anxiety, Phobias, and Worry Using Acceptance and Commitment Therapy', 'price': 'Â£23.89'}\n",
      "{'title': 'The Life-Changing Magic of Tidying Up: The Japanese Art of Decluttering and Organizing', 'price': 'Â£16.77'}\n",
      "{'title': 'The Inefficiency Assassin: Time Management Tactics for Working Smarter, Not Longer', 'price': 'Â£20.59'}\n",
      "{'title': 'The Gutsy Girl: Escapades for Your Life of Epic Adventure', 'price': 'Â£37.13'}\n",
      "{'title': 'The Electric Pencil: Drawings from Inside State Hospital No. 3', 'price': 'Â£56.06'}\n",
      "{'title': 'The Death of Humanity: and the Case for Life', 'price': 'Â£58.11'}\n",
      "{'title': 'The Bulletproof Diet: Lose up to a Pound a Day, Reclaim Energy and Focus, Upgrade Your Life', 'price': 'Â£49.05'}\n",
      "{'title': 'The Art Forger', 'price': 'Â£40.76'}\n",
      "{'title': 'The Age of Genius: The Seventeenth Century and the Birth of the Modern Mind', 'price': 'Â£19.73'}\n",
      "{'title': \"The Activist's Tao Te Ching: Ancient Advice for a Modern Revolution\", 'price': 'Â£32.24'}\n",
      "{'title': 'Spark Joy: An Illustrated Master Class on the Art of Organizing and Tidying Up', 'price': 'Â£41.83'}\n",
      "{'title': 'Soul Reader', 'price': 'Â£39.58'}\n",
      "{'title': 'Security', 'price': 'Â£39.25'}\n",
      "{'title': 'Saga, Volume 6 (Saga (Collected Editions) #6)', 'price': 'Â£25.02'}\n",
      "{'title': 'Saga, Volume 5 (Saga (Collected Editions) #5)', 'price': 'Â£51.04'}\n",
      "{'title': 'Reskilling America: Learning to Labor in the Twenty-First Century', 'price': 'Â£19.83'}\n",
      "{'title': 'Rat Queens, Vol. 3: Demons (Rat Queens (Collected Editions) #11-15)', 'price': 'Â£50.40'}\n"
     ]
    }
   ],
   "source": [
    "import requests\n",
    "from bs4 import BeautifulSoup\n",
    "import pandas as pd\n",
    "\n",
    "books_data = []\n",
    "base_url = \"http://books.toscrape.com/catalogue/page-{}.html\"\n",
    "\n",
    "for page in range(1, 5):\n",
    "    url = base_url.format(page)\n",
    "    response = requests.get(url)\n",
    "    soup = BeautifulSoup(response.text,\"html.parser\")\n",
    "\n",
    "for book in soup.select(\".product_pod\"):\n",
    "    title = book.h3.a[\"title\"]\n",
    "    price = book.select_one(\".price_color\").text.strip()\n",
    "    books_data.append({\"title\": title, \"price\": price})\n",
    "\n",
    "print(\"\\nBooks to scrape (first 3 pages):\")\n",
    "for b in books_data:\n",
    "    print(b)"
   ]
  },
  {
   "cell_type": "code",
   "execution_count": null,
   "id": "7e07b4d4-16b7-4b0d-b9bd-400f6dd77de7",
   "metadata": {},
   "outputs": [],
   "source": []
  },
  {
   "cell_type": "markdown",
   "id": "fc7a11a8-6c0c-45f8-80ce-b9f453b893e5",
   "metadata": {},
   "source": [
    "## Q.no.2"
   ]
  },
  {
   "cell_type": "markdown",
   "id": "f499a49a-2927-4229-80e3-5e1c171977fd",
   "metadata": {},
   "source": [
    "Extract the current weather descriptions (like ‘clear’, ‘cloudy’) and temperatures for at least five cities from a public weather site (such as https://www.weather.com or https://wttr.in). Present your data in a tabular format (city, description, temperature)."
   ]
  },
  {
   "cell_type": "code",
   "execution_count": 5,
   "id": "ff43862f-2b69-41b4-a72d-e7bb9628be01",
   "metadata": {},
   "outputs": [
    {
     "name": "stdout",
     "output_type": "stream",
     "text": [
      "\n",
      "Weather Data:\n",
      "        city         description temperature\n",
      "0      Japan       Partly cloudy       +25°C\n",
      "1      Dubai               Clear       +36°C\n",
      "2  Singapore       Partly cloudy       +27°C\n",
      "3     Mumbai                Haze       +29°C\n",
      "4      Tokyo  Patchy rain nearby       +27°C\n"
     ]
    }
   ],
   "source": [
    "cities = [\"Japan\", \"Dubai\", \"Singapore\", \"Mumbai\", \"Tokyo\"]\n",
    "weather_data = []\n",
    "\n",
    "for city in cities:\n",
    "    url = f\"https://wttr.in/{city}?format=%C+%t\"\n",
    "    response = requests.get(url)\n",
    "    if response.status_code == 200:\n",
    "        description_temp = response.text.strip()\n",
    "        try:\n",
    "            description, temp = description_temp.rsplit(\" \", 1)\n",
    "        except ValueError:\n",
    "            description, temp = description_temp, \"\"\n",
    "        weather_data.append({\"city\": city, \"description\": description, \"temperature\": temp})\n",
    "\n",
    "weather_df = pd.DataFrame(weather_data)\n",
    "print(\"\\nWeather Data:\")\n",
    "print(weather_df) "
   ]
  },
  {
   "cell_type": "markdown",
   "id": "a5bea8a3-bd91-481d-a8a5-93373e0913c5",
   "metadata": {},
   "source": [
    "## Q.no.3"
   ]
  },
  {
   "cell_type": "markdown",
   "id": "bd3900a5-3987-44bd-9705-dac8f0e86476",
   "metadata": {},
   "source": [
    "From the “Real Python Fake Jobs” board (https://realpython.github.io/fake-jobs/), gather all job titles, companies, and locations listed on the first three pages. Save the results as a CSV file. Be sure to loop through the pagination and properly parse the HTML for structured data extraction."
   ]
  },
  {
   "cell_type": "code",
   "execution_count": 6,
   "id": "53b2cd6f-a392-4e17-8bc0-5f1211cc242e",
   "metadata": {},
   "outputs": [
    {
     "name": "stdout",
     "output_type": "stream",
     "text": [
      "Data saved to task_6.csv\n"
     ]
    }
   ],
   "source": [
    "jobs_data = []\n",
    "jobs_base_url = \"https://realpython.github.io/fake-jobs/page-{}.html\"\n",
    "\n",
    "for page in range(1, 4):\n",
    "    url = jobs_base_url.format(page)\n",
    "    response = requests.get(url)\n",
    "    soup = BeautifulSoup(response.text, \"html.parser\")\n",
    "    \n",
    "    for job_card in soup.select(\".card-content\"):\n",
    "        title = job_card.find(\"h1\", class_=\"title\").text.strip()\n",
    "        company = job_card.find(\"h3\", class_=\"company\").text.strip()\n",
    "        location = job_card.find(\"p\", class_=\"location\").text.strip()\n",
    "        jobs_data.append({\"title\": title, \"company\": company, \"location\": location})\n",
    "\n",
    "jobs_df = pd.DataFrame(jobs_data)\n",
    "jobs_df.to_csv(\"task_6\", index=False)\n",
    "\n",
    "print(\"Data saved to task_6.csv\")\n"
   ]
  }
 ],
 "metadata": {
  "kernelspec": {
   "display_name": "Python [conda env:base] *",
   "language": "python",
   "name": "conda-base-py"
  },
  "language_info": {
   "codemirror_mode": {
    "name": "ipython",
    "version": 3
   },
   "file_extension": ".py",
   "mimetype": "text/x-python",
   "name": "python",
   "nbconvert_exporter": "python",
   "pygments_lexer": "ipython3",
   "version": "3.13.5"
  }
 },
 "nbformat": 4,
 "nbformat_minor": 5
}
