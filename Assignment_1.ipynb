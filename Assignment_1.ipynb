{
 "cells": [
  {
   "cell_type": "code",
   "execution_count": 7,
   "id": "82a33ec7-d819-47ca-8cb5-207f71193aa3",
   "metadata": {},
   "outputs": [],
   "source": [
    "#Strip Function "
   ]
  },
  {
   "cell_type": "code",
   "execution_count": 12,
   "id": "fa39aa48-d9e8-42e3-b1e3-6ed61e0ef455",
   "metadata": {},
   "outputs": [
    {
     "name": "stdout",
     "output_type": "stream",
     "text": [
      "Hello World\n"
     ]
    }
   ],
   "source": [
    "text = '  Hello World  '\n",
    "print(text.strip())"
   ]
  },
  {
   "cell_type": "code",
   "execution_count": null,
   "id": "c7934d8f-5032-4838-9255-45aa89030a00",
   "metadata": {},
   "outputs": [],
   "source": []
  },
  {
   "cell_type": "code",
   "execution_count": 13,
   "id": "597cd3c8-77c4-4836-aeec-fde82439a343",
   "metadata": {},
   "outputs": [],
   "source": [
    "#Split Function"
   ]
  },
  {
   "cell_type": "code",
   "execution_count": 15,
   "id": "63b9f6e6-a0cf-47cc-a656-fe73237f112b",
   "metadata": {},
   "outputs": [
    {
     "name": "stdout",
     "output_type": "stream",
     "text": [
      "['ninety one', 'ninety two', 'ninety three', 'ninety four']\n"
     ]
    }
   ],
   "source": [
    "text = \"ninety one,ninety two,ninety three,ninety four\"\n",
    "print(text.split(\",\"))"
   ]
  },
  {
   "cell_type": "code",
   "execution_count": null,
   "id": "a2db6d25-6bc6-44eb-afe8-16c422a658e3",
   "metadata": {},
   "outputs": [],
   "source": []
  },
  {
   "cell_type": "code",
   "execution_count": 16,
   "id": "619a0a23-47bc-48ec-96a5-c6c829e81d10",
   "metadata": {},
   "outputs": [],
   "source": [
    "#Replace Function "
   ]
  },
  {
   "cell_type": "code",
   "execution_count": 18,
   "id": "b2d4cd62-2704-43c6-871e-6479693f61b9",
   "metadata": {},
   "outputs": [
    {
     "name": "stdout",
     "output_type": "stream",
     "text": [
      "Student\n"
     ]
    }
   ],
   "source": [
    "text= 'student'\n",
    "print(text.replace(\"s\",\"S\"))"
   ]
  },
  {
   "cell_type": "code",
   "execution_count": null,
   "id": "6df55c97-b941-4450-8faa-ed96b5e03861",
   "metadata": {},
   "outputs": [],
   "source": []
  },
  {
   "cell_type": "code",
   "execution_count": 19,
   "id": "42aca97c-c7bc-48c8-8e04-0ea25e07f93d",
   "metadata": {},
   "outputs": [],
   "source": [
    "#Join Function"
   ]
  },
  {
   "cell_type": "code",
   "execution_count": 21,
   "id": "0a9f2aae-1a08-461b-8b0d-ac8726f6e626",
   "metadata": {},
   "outputs": [
    {
     "name": "stdout",
     "output_type": "stream",
     "text": [
      "one-Two-Three-Four-Five\n"
     ]
    }
   ],
   "source": [
    "text = \"one\",\"Two\",\"Three\",\"Four\",\"Five\"\n",
    "print(\"-\".join(text))"
   ]
  },
  {
   "cell_type": "code",
   "execution_count": null,
   "id": "8389fb33-432a-4c59-b0a2-38e64751a2f1",
   "metadata": {},
   "outputs": [],
   "source": []
  },
  {
   "cell_type": "code",
   "execution_count": 22,
   "id": "fd60066f-7068-42c2-ae47-eaba413e3c64",
   "metadata": {},
   "outputs": [],
   "source": [
    "#Find Function"
   ]
  },
  {
   "cell_type": "code",
   "execution_count": 27,
   "id": "f93d4aff-c81a-44f8-a72a-d4d33f54c5dc",
   "metadata": {},
   "outputs": [
    {
     "name": "stdout",
     "output_type": "stream",
     "text": [
      "6\n"
     ]
    }
   ],
   "source": [
    "Text = \"Hello World\"\n",
    "print(Text.find(\"World\"))"
   ]
  },
  {
   "cell_type": "code",
   "execution_count": null,
   "id": "b367985e-c90d-4732-bb79-654739ba85a4",
   "metadata": {},
   "outputs": [],
   "source": []
  },
  {
   "cell_type": "code",
   "execution_count": 32,
   "id": "8a2df02d-8b5f-470e-9cd2-83b1dfe36512",
   "metadata": {},
   "outputs": [],
   "source": [
    "#Startswith Function "
   ]
  },
  {
   "cell_type": "code",
   "execution_count": 30,
   "id": "01b28a08-5ab1-4a66-a601-351af08e3f6c",
   "metadata": {},
   "outputs": [
    {
     "name": "stdout",
     "output_type": "stream",
     "text": [
      "True\n"
     ]
    }
   ],
   "source": [
    "Text = \"Hello\"\n",
    "print(Text.startswith(\"He\"))"
   ]
  },
  {
   "cell_type": "code",
   "execution_count": null,
   "id": "bb6d445a-13f9-40fe-92cf-3c781b83accd",
   "metadata": {},
   "outputs": [],
   "source": []
  },
  {
   "cell_type": "code",
   "execution_count": 31,
   "id": "aab0906b-f9de-4d37-9855-04bf16d8610c",
   "metadata": {},
   "outputs": [],
   "source": [
    "#Endswith Function "
   ]
  },
  {
   "cell_type": "code",
   "execution_count": 34,
   "id": "70ffcde4-244a-443e-92d8-3c8accc81cb3",
   "metadata": {},
   "outputs": [
    {
     "name": "stdout",
     "output_type": "stream",
     "text": [
      "True\n"
     ]
    }
   ],
   "source": [
    "Text = \"World\"\n",
    "print(Text.endswith(\"ld\"))"
   ]
  },
  {
   "cell_type": "code",
   "execution_count": null,
   "id": "de3e5c92-e547-418b-8d35-5c3e1330ef8c",
   "metadata": {},
   "outputs": [],
   "source": []
  },
  {
   "cell_type": "code",
   "execution_count": 36,
   "id": "3e0e796a-04e3-459e-a84a-7cf1fe1f7086",
   "metadata": {},
   "outputs": [],
   "source": [
    "#Isalpha Function"
   ]
  },
  {
   "cell_type": "code",
   "execution_count": 38,
   "id": "79602a2c-d791-4813-b6ee-83ec99502547",
   "metadata": {},
   "outputs": [
    {
     "name": "stdout",
     "output_type": "stream",
     "text": [
      "True\n"
     ]
    }
   ],
   "source": [
    "Text = \"HelloWorld\"\n",
    "print(Text.isalpha())"
   ]
  },
  {
   "cell_type": "code",
   "execution_count": null,
   "id": "0478ef62-9dd2-4f4a-816b-9cef68f47c8d",
   "metadata": {},
   "outputs": [],
   "source": []
  },
  {
   "cell_type": "code",
   "execution_count": 39,
   "id": "0fab6d00-db7a-45fd-a2e5-c17c44870f0f",
   "metadata": {},
   "outputs": [],
   "source": [
    "#Isdigit Function"
   ]
  },
  {
   "cell_type": "code",
   "execution_count": 42,
   "id": "a8b36c0b-9324-4cf9-a6ff-07e8531203a8",
   "metadata": {},
   "outputs": [
    {
     "name": "stdout",
     "output_type": "stream",
     "text": [
      "True\n"
     ]
    }
   ],
   "source": [
    "Digits = \"987456\"\n",
    "print(Digits.isdigit())"
   ]
  },
  {
   "cell_type": "code",
   "execution_count": null,
   "id": "b43c7bd4-a4a0-4f7d-8d34-7b56b01ba0ce",
   "metadata": {},
   "outputs": [],
   "source": []
  },
  {
   "cell_type": "code",
   "execution_count": 44,
   "id": "89ebe353-026a-4208-970a-0e959442d79d",
   "metadata": {},
   "outputs": [
    {
     "name": "stdout",
     "output_type": "stream",
     "text": [
      "Hello World\n"
     ]
    }
   ],
   "source": [
    "#Title Function\n",
    "Text = \"Hello World\"\n",
    "print(Text.title())"
   ]
  },
  {
   "cell_type": "code",
   "execution_count": null,
   "id": "34f0373b-68fc-47ed-9956-4a91bbc0b020",
   "metadata": {},
   "outputs": [],
   "source": []
  },
  {
   "cell_type": "code",
   "execution_count": null,
   "id": "36f04fc8-2e9d-45d9-a541-ec7c7060b243",
   "metadata": {},
   "outputs": [],
   "source": []
  },
  {
   "cell_type": "code",
   "execution_count": 45,
   "id": "2b4525ab-f33c-42a8-9bdd-9f021a9bbb11",
   "metadata": {},
   "outputs": [],
   "source": [
    "#BITWISE OPERATORS"
   ]
  },
  {
   "cell_type": "code",
   "execution_count": 48,
   "id": "1dbc8fef-0acd-4c83-b906-3cf7ae1bc3de",
   "metadata": {},
   "outputs": [],
   "source": [
    "a = 10"
   ]
  },
  {
   "cell_type": "code",
   "execution_count": 47,
   "id": "5a920b5e-605e-4b81-81fd-f975eda07cab",
   "metadata": {},
   "outputs": [],
   "source": [
    "b = 7"
   ]
  },
  {
   "cell_type": "code",
   "execution_count": 50,
   "id": "c2473705-d498-4edd-ae22-af19117e6da1",
   "metadata": {},
   "outputs": [
    {
     "name": "stdout",
     "output_type": "stream",
     "text": [
      "a & b = 2\n",
      "a | b = 15\n",
      "a ^ b = 13\n",
      "~a = -11\n",
      "a << 1 = 20\n",
      "a >> 1 = 5\n"
     ]
    }
   ],
   "source": [
    "print(\"a & b =\", a & b)       # AND\n",
    "print(\"a | b =\", a | b)       # OR\n",
    "print(\"a ^ b =\", a ^ b)       # XOR\n",
    "print(\"~a =\", ~a)             # NOT\n",
    "print(\"a << 1 =\", a << 1)     # Left Shift\n",
    "print(\"a >> 1 =\", a >> 1)     # Right Shift"
   ]
  },
  {
   "cell_type": "code",
   "execution_count": null,
   "id": "2c0b7f19-8f9a-44ef-a355-5b70509b58cf",
   "metadata": {},
   "outputs": [],
   "source": []
  },
  {
   "cell_type": "code",
   "execution_count": 53,
   "id": "e7bf801b-156a-4650-9f58-aebea40b5b98",
   "metadata": {},
   "outputs": [],
   "source": [
    "#ASSIGNMENT OPERATOR"
   ]
  },
  {
   "cell_type": "code",
   "execution_count": 56,
   "id": "85e9934d-cb06-4a1e-80ac-224120dacb11",
   "metadata": {},
   "outputs": [
    {
     "name": "stdout",
     "output_type": "stream",
     "text": [
      "Initial x = 24\n",
      "x += 5: 26\n",
      "x -= 3: 22\n",
      "x *= 2: 110\n",
      "x /= 4: 18.333333333333332\n",
      "x %= 5: 0.33333333333333215\n",
      "x //= 3: 5\n",
      "x **= 2: 125\n",
      "x &= 3: 0\n",
      "x |= 8: 9\n",
      "x ^= 2: 10\n",
      "x <<= 1: 20\n",
      "x >>= 2: 2\n"
     ]
    }
   ],
   "source": [
    "x = 24\n",
    "print(\"Initial x =\", x)     #Simple Assignment\n",
    "\n",
    "\n",
    "x += 2\n",
    "print(\"x += 5:\", x)     #Add And Assign\n",
    "x -= 4\n",
    "print(\"x -= 3:\", x)     #Substract and Assign\n",
    "\n",
    "x *= 5\n",
    "print(\"x *= 2:\", x)     #Multiply and Assign\n",
    "\n",
    "x /= 6\n",
    "print(\"x /= 4:\", x)     #Divide and Assign\n",
    "\n",
    "x %= 6\n",
    "print(\"x %= 5:\", x)     #Modulus ans Assign\n",
    "\n",
    "x = 11\n",
    "x //= 2\n",
    "print(\"x //= 3:\", x)    #Floor Divide and Assign\n",
    "\n",
    "x **= 3\n",
    "print(\"x **= 2:\", x)    #Exponent and Assign\n",
    "\n",
    "x = 8\n",
    "x &= 4\n",
    "print(\"x &= 3:\", x)     #Bitwsise AND and Assign\n",
    "\n",
    "x |= 9\n",
    "print(\"x |= 8:\", x)     #Bitwise OR and Assign\n",
    "\n",
    "x ^= 3\n",
    "print(\"x ^= 2:\", x)     #Bitwsie XOR and Assign\n",
    "\n",
    "x <<= 1\n",
    "print(\"x <<= 1:\", x)    #Left Shift and Assign\n",
    "\n",
    "x >>= 3\n",
    "print(\"x >>= 2:\", x)    #Right Shift and Assign\n"
   ]
  },
  {
   "cell_type": "code",
   "execution_count": null,
   "id": "6ac9ad55-e008-4be7-871d-8052199680a9",
   "metadata": {},
   "outputs": [],
   "source": []
  },
  {
   "cell_type": "code",
   "execution_count": 59,
   "id": "fba48561-cfc2-4b27-903b-9dcd8c1abda9",
   "metadata": {},
   "outputs": [],
   "source": [
    "#file operator"
   ]
  },
  {
   "cell_type": "code",
   "execution_count": null,
   "id": "ee1c5fc9-95f1-4110-ae3d-a81af6bb3f7d",
   "metadata": {},
   "outputs": [],
   "source": []
  },
  {
   "cell_type": "code",
   "execution_count": 60,
   "id": "3f65a111-8def-45e6-81ed-e332661471de",
   "metadata": {},
   "outputs": [],
   "source": [
    "#readlines"
   ]
  },
  {
   "cell_type": "code",
   "execution_count": 2,
   "id": "6d3b9c94-39b5-40e7-9244-49cde5998b4e",
   "metadata": {},
   "outputs": [
    {
     "name": "stdout",
     "output_type": "stream",
     "text": [
      "['Hello World \\n']\n"
     ]
    }
   ],
   "source": [
    "file= open(\"file.txt\", \"r\")\n",
    "line = file.readlines()  #data read in list\n",
    "print(line)\n",
    "file.close()"
   ]
  },
  {
   "cell_type": "code",
   "execution_count": null,
   "id": "56ba0a50-ee02-45d5-a76c-d470f20a7d2d",
   "metadata": {},
   "outputs": [],
   "source": []
  },
  {
   "cell_type": "code",
   "execution_count": 5,
   "id": "14159329-936c-4b83-989b-f3435e76698e",
   "metadata": {},
   "outputs": [
    {
     "name": "stdout",
     "output_type": "stream",
     "text": [
      "Write Successfuly\n"
     ]
    }
   ],
   "source": [
    "# Write() \n",
    "\n",
    "\n",
    "file = open(\"file.txt\", \"w\")\n",
    "file.write(\"Hello World\\n\")\n",
    "print(\"Write Successfuly\")\n",
    "file.close()"
   ]
  },
  {
   "cell_type": "code",
   "execution_count": null,
   "id": "47755066-1e6e-4214-9f47-85ec2ebdb516",
   "metadata": {},
   "outputs": [],
   "source": []
  },
  {
   "cell_type": "code",
   "execution_count": 7,
   "id": "4c1dd3ca-83ec-4170-8d39-7c6f028d33e3",
   "metadata": {},
   "outputs": [
    {
     "name": "stdout",
     "output_type": "stream",
     "text": [
      "Line added\n"
     ]
    }
   ],
   "source": [
    "#Append ()\n",
    "\n",
    "file = open(\"file.txt\", \"a\")\n",
    "file.write(\"Hello is add in append mode\")\n",
    "print(\"Line added\")\n",
    "file.close()"
   ]
  }
 ],
 "metadata": {
  "kernelspec": {
   "display_name": "Python [conda env:base] *",
   "language": "python",
   "name": "conda-base-py"
  },
  "language_info": {
   "codemirror_mode": {
    "name": "ipython",
    "version": 3
   },
   "file_extension": ".py",
   "mimetype": "text/x-python",
   "name": "python",
   "nbconvert_exporter": "python",
   "pygments_lexer": "ipython3",
   "version": "3.13.5"
  }
 },
 "nbformat": 4,
 "nbformat_minor": 5
}
